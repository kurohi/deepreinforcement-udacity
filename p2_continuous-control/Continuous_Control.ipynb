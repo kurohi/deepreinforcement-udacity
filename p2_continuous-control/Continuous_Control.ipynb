{
 "cells": [
  {
   "cell_type": "markdown",
   "metadata": {},
   "source": [
    "# Continuous Control\n",
    "\n",
    "---\n",
    "\n",
    "In this notebook, you will learn how to use the Unity ML-Agents environment for the second project of the [Deep Reinforcement Learning Nanodegree](https://www.udacity.com/course/deep-reinforcement-learning-nanodegree--nd893) program.\n",
    "\n",
    "### 1. Start the Environment\n",
    "\n",
    "We begin by importing the necessary packages.  If the code cell below returns an error, please revisit the project instructions to double-check that you have installed [Unity ML-Agents](https://github.com/Unity-Technologies/ml-agents/blob/master/docs/Installation.md) and [NumPy](http://www.numpy.org/)."
   ]
  },
  {
   "cell_type": "code",
   "execution_count": 1,
   "metadata": {
    "collapsed": true
   },
   "outputs": [],
   "source": [
    "from unityagents import UnityEnvironment\n",
    "import numpy as np\n",
    "import torch\n",
    "import torch.nn as nn\n",
    "import torch.nn.functional as F\n",
    "from collections import OrderedDict\n",
    "import matplotlib.pyplot as plt\n",
    "%matplotlib inline"
   ]
  },
  {
   "cell_type": "code",
   "execution_count": 2,
   "metadata": {
    "collapsed": true
   },
   "outputs": [],
   "source": [
    "device = torch.device(\"cuda:0\" if torch.cuda.is_available() else \"cpu\")"
   ]
  },
  {
   "cell_type": "markdown",
   "metadata": {},
   "source": [
    "Next, we will start the environment!  **_Before running the code cell below_**, change the `file_name` parameter to match the location of the Unity environment that you downloaded.\n",
    "\n",
    "- **Mac**: `\"path/to/Reacher.app\"`\n",
    "- **Windows** (x86): `\"path/to/Reacher_Windows_x86/Reacher.exe\"`\n",
    "- **Windows** (x86_64): `\"path/to/Reacher_Windows_x86_64/Reacher.exe\"`\n",
    "- **Linux** (x86): `\"path/to/Reacher_Linux/Reacher.x86\"`\n",
    "- **Linux** (x86_64): `\"path/to/Reacher_Linux/Reacher.x86_64\"`\n",
    "- **Linux** (x86, headless): `\"path/to/Reacher_Linux_NoVis/Reacher.x86\"`\n",
    "- **Linux** (x86_64, headless): `\"path/to/Reacher_Linux_NoVis/Reacher.x86_64\"`\n",
    "\n",
    "For instance, if you are using a Mac, then you downloaded `Reacher.app`.  If this file is in the same folder as the notebook, then the line below should appear as follows:\n",
    "```\n",
    "env = UnityEnvironment(file_name=\"Reacher.app\")\n",
    "```"
   ]
  },
  {
   "cell_type": "code",
   "execution_count": 3,
   "metadata": {},
   "outputs": [
    {
     "name": "stderr",
     "output_type": "stream",
     "text": [
      "INFO:unityagents:\n",
      "'Academy' started successfully!\n",
      "Unity Academy name: Academy\n",
      "        Number of Brains: 1\n",
      "        Number of External Brains : 1\n",
      "        Lesson number : 0\n",
      "        Reset Parameters :\n",
      "\t\tgoal_speed -> 1.0\n",
      "\t\tgoal_size -> 5.0\n",
      "Unity brain name: ReacherBrain\n",
      "        Number of Visual Observations (per agent): 0\n",
      "        Vector Observation space type: continuous\n",
      "        Vector Observation space size (per agent): 33\n",
      "        Number of stacked Vector Observation: 1\n",
      "        Vector Action space type: continuous\n",
      "        Vector Action space size (per agent): 4\n",
      "        Vector Action descriptions: , , , \n"
     ]
    }
   ],
   "source": [
    "env = UnityEnvironment(file_name='Reacher_Linux/Reacher.x86_64')"
   ]
  },
  {
   "cell_type": "markdown",
   "metadata": {},
   "source": [
    "Environments contain **_brains_** which are responsible for deciding the actions of their associated agents. Here we check for the first brain available, and set it as the default brain we will be controlling from Python."
   ]
  },
  {
   "cell_type": "code",
   "execution_count": 4,
   "metadata": {
    "collapsed": true
   },
   "outputs": [],
   "source": [
    "# get the default brain\n",
    "brain_name = env.brain_names[0]\n",
    "brain = env.brains[brain_name]"
   ]
  },
  {
   "cell_type": "markdown",
   "metadata": {},
   "source": [
    "### 2. Examine the State and Action Spaces\n",
    "\n",
    "In this environment, a double-jointed arm can move to target locations. A reward of `+0.1` is provided for each step that the agent's hand is in the goal location. Thus, the goal of your agent is to maintain its position at the target location for as many time steps as possible.\n",
    "\n",
    "The observation space consists of `33` variables corresponding to position, rotation, velocity, and angular velocities of the arm.  Each action is a vector with four numbers, corresponding to torque applicable to two joints.  Every entry in the action vector must be a number between `-1` and `1`.\n",
    "\n",
    "Run the code cell below to print some information about the environment."
   ]
  },
  {
   "cell_type": "code",
   "execution_count": 5,
   "metadata": {},
   "outputs": [
    {
     "name": "stdout",
     "output_type": "stream",
     "text": [
      "Number of agents: 20\n",
      "Size of each action: 4\n",
      "There are 20 agents. Each observes a state with length: 33\n",
      "The state for the first agent looks like: [ 0.00000000e+00 -4.00000000e+00  0.00000000e+00  1.00000000e+00\n",
      " -0.00000000e+00 -0.00000000e+00 -4.37113883e-08  0.00000000e+00\n",
      "  0.00000000e+00  0.00000000e+00  0.00000000e+00  0.00000000e+00\n",
      "  0.00000000e+00  0.00000000e+00 -1.00000000e+01  0.00000000e+00\n",
      "  1.00000000e+00 -0.00000000e+00 -0.00000000e+00 -4.37113883e-08\n",
      "  0.00000000e+00  0.00000000e+00  0.00000000e+00  0.00000000e+00\n",
      "  0.00000000e+00  0.00000000e+00  5.75471878e+00 -1.00000000e+00\n",
      "  5.55726624e+00  0.00000000e+00  1.00000000e+00  0.00000000e+00\n",
      " -1.68164849e-01]\n"
     ]
    }
   ],
   "source": [
    "# reset the environment\n",
    "env_info = env.reset(train_mode=True)[brain_name]\n",
    "\n",
    "# number of agents\n",
    "num_agents = len(env_info.agents)\n",
    "print('Number of agents:', num_agents)\n",
    "\n",
    "# size of each action\n",
    "action_size = brain.vector_action_space_size\n",
    "print('Size of each action:', action_size)\n",
    "\n",
    "# examine the state space \n",
    "states = env_info.vector_observations\n",
    "state_size = states.shape[1]\n",
    "print('There are {} agents. Each observes a state with length: {}'.format(states.shape[0], state_size))\n",
    "print('The state for the first agent looks like:', states[0])"
   ]
  },
  {
   "cell_type": "markdown",
   "metadata": {},
   "source": [
    "### 3. Take Random Actions in the Environment\n",
    "\n",
    "In the next code cell, you will learn how to use the Python API to control the agent and receive feedback from the environment.\n",
    "\n",
    "Once this cell is executed, you will watch the agent's performance, if it selects an action at random with each time step.  A window should pop up that allows you to observe the agent, as it moves through the environment.  \n",
    "\n",
    "Of course, as part of the project, you'll have to change the code so that the agent is able to use its experience to gradually choose better actions when interacting with the environment!"
   ]
  },
  {
   "cell_type": "code",
   "execution_count": 5,
   "metadata": {},
   "outputs": [
    {
     "name": "stdout",
     "output_type": "stream",
     "text": [
      "Total score (averaged over agents) this episode: 0.06649999851360917\n"
     ]
    }
   ],
   "source": [
    "env_info = env.reset(train_mode=False)[brain_name]     # reset the environment    \n",
    "states = env_info.vector_observations                  # get the current state (for each agent)\n",
    "scores = np.zeros(num_agents)                          # initialize the score (for each agent)\n",
    "while True:\n",
    "    actions = np.random.randn(num_agents, action_size) # select an action (for each agent)\n",
    "    actions = np.clip(actions, -1, 1)                  # all actions between -1 and 1\n",
    "    env_info = env.step(actions)[brain_name]           # send all actions to tne environment\n",
    "    next_states = env_info.vector_observations         # get next state (for each agent)\n",
    "    rewards = env_info.rewards                         # get reward (for each agent)\n",
    "    dones = env_info.local_done                        # see if episode finished\n",
    "    scores += env_info.rewards                         # update the score (for each agent)\n",
    "    states = next_states                               # roll over states to next time step\n",
    "    if np.any(dones):                                  # exit loop if episode finished\n",
    "        break\n",
    "print('Total score (averaged over agents) this episode: {}'.format(np.mean(scores)))"
   ]
  },
  {
   "cell_type": "markdown",
   "metadata": {},
   "source": [
    "When finished, you can close the environment."
   ]
  },
  {
   "cell_type": "code",
   "execution_count": 6,
   "metadata": {
    "collapsed": true
   },
   "outputs": [],
   "source": [
    "env.close()"
   ]
  },
  {
   "cell_type": "markdown",
   "metadata": {},
   "source": [
    "### 4. It's Your Turn!\n",
    "\n",
    "Now it's your turn to train your own agent to solve the environment!  When training the environment, set `train_mode=True`, so that the line for resetting the environment looks like the following:\n",
    "```python\n",
    "env_info = env.reset(train_mode=True)[brain_name]\n",
    "```"
   ]
  },
  {
   "cell_type": "code",
   "execution_count": 6,
   "metadata": {},
   "outputs": [],
   "source": [
    "LR = 5e-4\n",
    "def init_weights(m):\n",
    "    if type(m) == nn.Linear:\n",
    "        torch.nn.init.xavier_uniform_(m.weight)\n",
    "        m.bias.data.fill_(0.01)\n",
    "        \n",
    "class Actor(nn.Module):\n",
    "    def __init__(self, state_size, action_size, fc_sizes=[128,64,32]):\n",
    "        super(Actor, self).__init__()\n",
    "        sequence_dict = OrderedDict();\n",
    "        sequence_dict['fc0'] = nn.Linear(state_size, fc_sizes[0])\n",
    "        sequence_dict['fc_relu0'] = nn.ReLU()\n",
    "        for i,fc_size in enumerate(fc_sizes):\n",
    "            if(i == len(fc_sizes)-1):\n",
    "                sequence_dict['logit'] = nn.Linear(fc_size, action_size)\n",
    "            else:\n",
    "                sequence_dict['fc{}'.format(i+1)] = nn.Linear(fc_size, fc_sizes[i+1])\n",
    "                sequence_dict['fc_relu{}'.format(i+1)] = nn.ReLU()\n",
    "        sequence_dict['sigmoid'] = nn.Sigmoid()\n",
    "        self.model = nn.Sequential(sequence_dict)\n",
    "        self.optimizer = torch.optim.Adam(self.model.parameters(), lr=LR)\n",
    "        self.model.apply(init_weights)\n",
    "\n",
    "    def forward(self, state):\n",
    "        res = self.model.forward(state)\n",
    "        return  torch.log(res), (res-0.5)*2.0\n",
    "    \n",
    "class Critic(nn.Module):\n",
    "    def __init__(self, state_size, fc_sizes=[128,64,32]):\n",
    "        super(Critic, self).__init__()\n",
    "        sequence_dict = OrderedDict();\n",
    "        sequence_dict['fc0'] = nn.Linear(state_size, fc_sizes[0])\n",
    "        sequence_dict['fc_relu0'] = nn.ReLU()\n",
    "        for i,fc_size in enumerate(fc_sizes):\n",
    "            if(i == len(fc_sizes)-1):\n",
    "                sequence_dict['logit'] = nn.Linear(fc_size, 1)\n",
    "            else:\n",
    "                sequence_dict['fc{}'.format(i+1)] = nn.Linear(fc_size, fc_sizes[i+1])\n",
    "                sequence_dict['fc_relu{}'.format(i+1)] = nn.ReLU()\n",
    "        sequence_dict['tanh'] = nn.Tanh()\n",
    "        self.model = nn.Sequential(sequence_dict)\n",
    "        self.optimizer = torch.optim.Adam(self.model.parameters(), lr=LR)\n",
    "        self.model.apply(init_weights)\n",
    "\n",
    "    def forward(self, state):\n",
    "        return self.model.forward(state)\n",
    "\n",
    "    \n",
    "actor = Actor(state_size,action_size, fc_sizes=[512]).to(device)\n",
    "critic = Critic(state_size,  fc_sizes=[512]).to(device)"
   ]
  },
  {
   "cell_type": "code",
   "execution_count": 7,
   "metadata": {},
   "outputs": [],
   "source": [
    "env_info = env.reset(train_mode=False)[brain_name]     # reset the environment    \n",
    "states = env_info.vector_observations"
   ]
  },
  {
   "cell_type": "code",
   "execution_count": 8,
   "metadata": {},
   "outputs": [
    {
     "data": {
      "text/plain": [
       "tensor([[-0.2578],\n",
       "        [-0.1619],\n",
       "        [-0.5294],\n",
       "        [-0.5643],\n",
       "        [-0.3870],\n",
       "        [-0.4469],\n",
       "        [ 0.1617],\n",
       "        [-0.5151],\n",
       "        [-0.3072],\n",
       "        [-0.0224],\n",
       "        [-0.5014],\n",
       "        [ 0.1252],\n",
       "        [-0.4888],\n",
       "        [-0.0574],\n",
       "        [-0.2556],\n",
       "        [-0.0115],\n",
       "        [-0.3743],\n",
       "        [-0.5877],\n",
       "        [ 0.1136],\n",
       "        [-0.3041]], device='cuda:0', grad_fn=<TanhBackward>)"
      ]
     },
     "execution_count": 8,
     "metadata": {},
     "output_type": "execute_result"
    }
   ],
   "source": [
    "state = torch.from_numpy(states).float().to(device)\n",
    "log_actions, actions = actor(state)\n",
    "critic(state)"
   ]
  },
  {
   "cell_type": "markdown",
   "metadata": {},
   "source": [
    "## 5.Training loop \n",
    "\n",
    "Here we train the policy."
   ]
  },
  {
   "cell_type": "code",
   "execution_count": null,
   "metadata": {},
   "outputs": [
    {
     "name": "stdout",
     "output_type": "stream",
     "text": [
      "Now on epoch: 0 with score: 0.37\n",
      "Now on epoch: 1 with score: 0.47\n",
      "Now on epoch: 2 with score: 0.54\n",
      "Now on epoch: 3 with score: 0.46\n",
      "Now on epoch: 4 with score: 0.53\n",
      "Now on epoch: 5 with score: 0.54\n",
      "Now on epoch: 6 with score: 0.45\n",
      "Now on epoch: 7 with score: 0.40\n",
      "Now on epoch: 8 with score: 0.49\n",
      "Now on epoch: 9 with score: 0.52\n",
      "Now on epoch: 10 with score: 0.50\n",
      "Now on epoch: 11 with score: 0.56\n",
      "Now on epoch: 12 with score: 0.42\n",
      "Now on epoch: 13 with score: 0.48\n",
      "Now on epoch: 14 with score: 0.45\n",
      "Now on epoch: 15 with score: 0.46\n",
      "Now on epoch: 16 with score: 0.48\n",
      "Now on epoch: 17 with score: 0.56\n",
      "Now on epoch: 18 with score: 0.52\n",
      "Now on epoch: 19 with score: 0.45\n",
      "Now on epoch: 20 with score: 0.59\n",
      "Now on epoch: 21 with score: 0.45\n",
      "Now on epoch: 22 with score: 0.49\n",
      "Now on epoch: 23 with score: 0.40\n",
      "Now on epoch: 24 with score: 0.40\n",
      "Now on epoch: 25 with score: 0.38\n",
      "Now on epoch: 26 with score: 0.38\n",
      "Now on epoch: 27 with score: 0.60\n",
      "Now on epoch: 28 with score: 0.51\n",
      "Now on epoch: 29 with score: 0.50\n",
      "Now on epoch: 30 with score: 0.53\n",
      "Now on epoch: 31 with score: 0.47\n",
      "Now on epoch: 32 with score: 0.45\n",
      "Now on epoch: 33 with score: 0.45\n",
      "Now on epoch: 34 with score: 0.51\n",
      "Now on epoch: 35 with score: 0.50\n",
      "Now on epoch: 36 with score: 0.38\n",
      "Now on epoch: 37 with score: 0.53\n",
      "Now on epoch: 38 with score: 0.52\n",
      "Now on epoch: 39 with score: 0.55\n",
      "Now on epoch: 40 with score: 0.34\n",
      "Now on epoch: 41 with score: 0.40\n",
      "Now on epoch: 42 with score: 0.30\n",
      "Now on epoch: 43 with score: 0.41\n",
      "Now on epoch: 44 with score: 0.51\n",
      "Now on epoch: 45 with score: 0.49\n",
      "Now on epoch: 46 with score: 0.39\n",
      "Now on epoch: 47 with score: 0.43\n",
      "Now on epoch: 48 with score: 0.52\n",
      "Now on epoch: 49 with score: 0.44\n",
      "Now on epoch: 50 with score: 0.43\n",
      "Now on epoch: 51 with score: 0.36\n",
      "Now on epoch: 52 with score: 0.36\n",
      "Now on epoch: 53 with score: 0.48\n",
      "Now on epoch: 54 with score: 0.50\n",
      "Now on epoch: 55 with score: 0.34\n",
      "Now on epoch: 56 with score: 0.40\n",
      "Now on epoch: 57 with score: 0.60\n",
      "Now on epoch: 58 with score: 0.45\n",
      "Now on epoch: 59 with score: 0.63\n",
      "Now on epoch: 60 with score: 0.40\n",
      "Now on epoch: 61 with score: 0.47\n",
      "Now on epoch: 62 with score: 0.49\n",
      "Now on epoch: 63 with score: 0.57\n",
      "Now on epoch: 64 with score: 0.49\n",
      "Now on epoch: 65 with score: 0.59\n",
      "Now on epoch: 66 with score: 0.48\n",
      "Now on epoch: 67 with score: 0.44\n",
      "Now on epoch: 68 with score: 0.52\n",
      "Now on epoch: 69 with score: 0.47\n",
      "Now on epoch: 70 with score: 0.51\n",
      "Now on epoch: 71 with score: 0.45\n",
      "Now on epoch: 72 with score: 0.36\n",
      "Now on epoch: 73 with score: 0.43\n",
      "Now on epoch: 74 with score: 0.48\n",
      "Now on epoch: 75 with score: 0.43\n",
      "Now on epoch: 76 with score: 0.41\n",
      "Now on epoch: 77 with score: 0.40\n",
      "Now on epoch: 78 with score: 0.37\n",
      "Now on epoch: 79 with score: 0.51\n",
      "Now on epoch: 80 with score: 0.57\n",
      "Now on epoch: 81 with score: 0.47\n",
      "Now on epoch: 82 with score: 0.51\n",
      "Now on epoch: 83 with score: 0.52\n",
      "Now on epoch: 84 with score: 0.52\n",
      "Now on epoch: 85 with score: 0.43\n",
      "Now on epoch: 86 with score: 0.48\n",
      "Now on epoch: 87 with score: 0.54\n",
      "Now on epoch: 88 with score: 0.54\n",
      "Now on epoch: 89 with score: 0.50\n",
      "Now on epoch: 90 with score: 0.40\n",
      "Now on epoch: 91 with score: 0.49\n",
      "Now on epoch: 92 with score: 0.46\n",
      "Now on epoch: 93 with score: 0.46\n",
      "Now on epoch: 94 with score: 0.28\n",
      "Now on epoch: 95 with score: 0.34\n",
      "Now on epoch: 96 with score: 0.42\n",
      "Now on epoch: 97 with score: 0.49\n",
      "Now on epoch: 98 with score: 0.48\n",
      "Now on epoch: 99 with score: 0.40\n",
      "Now on epoch: 100 with score: 0.50\n",
      "Now on epoch: 101 with score: 0.51\n",
      "Now on epoch: 102 with score: 0.60\n",
      "Now on epoch: 103 with score: 0.32\n",
      "Now on epoch: 104 with score: 0.45\n",
      "Now on epoch: 105 with score: 0.44\n",
      "Now on epoch: 106 with score: 0.40\n",
      "Now on epoch: 107 with score: 0.45\n",
      "Now on epoch: 108 with score: 0.36\n",
      "Now on epoch: 109 with score: 0.38\n",
      "Now on epoch: 110 with score: 0.37\n",
      "Now on epoch: 111 with score: 0.49\n",
      "Now on epoch: 112 with score: 0.42\n",
      "Now on epoch: 113 with score: 0.45\n",
      "Now on epoch: 114 with score: 0.39\n",
      "Now on epoch: 115 with score: 0.51\n",
      "Now on epoch: 116 with score: 0.43\n",
      "Now on epoch: 117 with score: 0.52\n",
      "Now on epoch: 118 with score: 0.44\n",
      "Now on epoch: 119 with score: 0.65\n",
      "Now on epoch: 120 with score: 0.50\n",
      "Now on epoch: 121 with score: 0.38\n",
      "Now on epoch: 122 with score: 0.51\n",
      "Now on epoch: 123 with score: 0.43\n",
      "Now on epoch: 124 with score: 0.59\n",
      "Now on epoch: 125 with score: 0.56\n",
      "Now on epoch: 126 with score: 0.44\n",
      "Now on epoch: 127 with score: 0.42\n",
      "Now on epoch: 128 with score: 0.47\n",
      "Now on epoch: 129 with score: 0.45\n",
      "Now on epoch: 130 with score: 0.44\n",
      "Now on epoch: 131 with score: 0.40\n",
      "Now on epoch: 132 with score: 0.38\n",
      "Now on epoch: 133 with score: 0.57\n",
      "Now on epoch: 134 with score: 0.44\n",
      "Now on epoch: 135 with score: 0.57\n",
      "Now on epoch: 136 with score: 0.49\n",
      "Now on epoch: 137 with score: 0.36\n",
      "Now on epoch: 138 with score: 0.46\n",
      "Now on epoch: 139 with score: 0.45\n",
      "Now on epoch: 140 with score: 0.52\n",
      "Now on epoch: 141 with score: 0.47\n",
      "Now on epoch: 142 with score: 0.56\n",
      "Now on epoch: 143 with score: 0.27\n",
      "Now on epoch: 144 with score: 0.43\n",
      "Now on epoch: 145 with score: 0.54\n",
      "Now on epoch: 146 with score: 0.42\n",
      "Now on epoch: 147 with score: 0.35\n",
      "Now on epoch: 148 with score: 0.47\n",
      "Now on epoch: 149 with score: 0.50\n",
      "Now on epoch: 150 with score: 0.44\n",
      "Now on epoch: 151 with score: 0.41\n",
      "Now on epoch: 152 with score: 0.36\n",
      "Now on epoch: 153 with score: 0.67\n",
      "Now on epoch: 154 with score: 0.59\n",
      "Now on epoch: 155 with score: 0.45\n",
      "Now on epoch: 156 with score: 0.44\n",
      "Now on epoch: 157 with score: 0.42\n",
      "Now on epoch: 158 with score: 0.50\n",
      "Now on epoch: 159 with score: 0.36\n",
      "Now on epoch: 160 with score: 0.46\n",
      "Now on epoch: 161 with score: 0.41\n",
      "Now on epoch: 162 with score: 0.44\n",
      "Now on epoch: 163 with score: 0.45\n",
      "Now on epoch: 164 with score: 0.35\n",
      "Now on epoch: 165 with score: 0.47\n",
      "Now on epoch: 166 with score: 0.53\n",
      "Now on epoch: 167 with score: 0.41\n",
      "Now on epoch: 168 with score: 0.46\n",
      "Now on epoch: 169 with score: 0.53\n",
      "Now on epoch: 170 with score: 0.55\n"
     ]
    }
   ],
   "source": [
    "n_episodes = 1000\n",
    "max_steps = 500\n",
    "gamma = 0.95\n",
    "score_array = []\n",
    "zero_counter = 0\n",
    "for e in range(n_episodes):\n",
    "    env_info = env.reset(train_mode=True)[brain_name]\n",
    "    states = env_info.vector_observations\n",
    "    scores = np.zeros(num_agents)\n",
    "    rollout = []\n",
    "    #acquiring an episode\n",
    "    for t in range(max_steps):\n",
    "        states = torch.from_numpy(states).float().to(device)        \n",
    "        rewards = env_info.rewards\n",
    "        rewards = np.array(rewards)\n",
    "        rewards = rewards.reshape(rewards.shape[0],1)\n",
    "        rewards = torch.from_numpy(rewards).float().to(device)\n",
    "        dones = env_info.local_done\n",
    "        dones = np.array(dones, dtype=np.float)\n",
    "        dones = dones.reshape(dones.shape[0],1)\n",
    "        dones = torch.from_numpy(dones).float().to(device)\n",
    "        \n",
    "        #using actor to get action to take the next action\n",
    "        log_actions, actions = actor(states)\n",
    "        \n",
    "        env_info = env.step(actions.cpu().data.numpy())[brain_name]\n",
    "        next_states = env_info.vector_observations\n",
    "        \n",
    "        values_s = critic(states)\n",
    "        future_rewards = critic(torch.from_numpy(next_states).float().to(device))\n",
    "        future_rewards = rewards + gamma*future_rewards*dones\n",
    "        \n",
    "        rollout.append((log_actions, future_rewards, values_s, dones))\n",
    "        scores += env_info.rewards\n",
    "        states = next_states\n",
    "        if np.all(dones):\n",
    "            break\n",
    "            \n",
    "    # Now updating the weights\n",
    "    for i in reversed(range(len(rollout) - 1)):\n",
    "        log_actions, future_rewards, values_s, dones = rollout[i]\n",
    "\n",
    "        #update the actor\n",
    "        #try to use the values before updated critic first\n",
    "        advantage = (future_rewards - values_s)*dones\n",
    "        loss_actor = (-log_actions * advantage).mean()+0.00001\n",
    "        actor.optimizer.zero_grad()\n",
    "        loss_actor.backward(retain_graph=True)\n",
    "        actor.optimizer.step()\n",
    "        \n",
    "        #update the critic\n",
    "        loss_critic = (0.5*(values_s - future_rewards)**2).sum()+0.00001\n",
    "        critic.optimizer.zero_grad()\n",
    "        loss_critic.backward(retain_graph=True)\n",
    "        critic.optimizer.step()\n",
    "    \n",
    "    score_mean = np.mean(scores)\n",
    "    score_array.append(score_mean)\n",
    "    print(\"Now on epoch: {} with score: {:.2f}\".format(e, score_mean))\n",
    "    if(e%10 == 0):\n",
    "        torch.save(actor.model.state_dict(), 'actor.pth')\n",
    "        torch.save(critic.model.state_dict(), 'critic.pth')\n",
    "    if(score_mean <= 0.01):\n",
    "        zero_counter += 1\n",
    "        if(zero_counter == 10):\n",
    "            break\n",
    "    else:\n",
    "        zero_counter = 0"
   ]
  },
  {
   "cell_type": "code",
   "execution_count": 77,
   "metadata": {},
   "outputs": [
    {
     "data": {
      "text/plain": [
       "tensor([[-0.9500],\n",
       "        [-0.9500],\n",
       "        [-0.9500],\n",
       "        [-0.9500],\n",
       "        [-0.9500],\n",
       "        [-0.9500],\n",
       "        [-0.9500],\n",
       "        [-0.9500],\n",
       "        [-0.9500],\n",
       "        [-0.9500],\n",
       "        [-0.9500],\n",
       "        [-0.9500],\n",
       "        [-0.9500],\n",
       "        [-0.9500],\n",
       "        [-0.9500],\n",
       "        [-0.9500],\n",
       "        [-0.9500],\n",
       "        [-0.9500],\n",
       "        [-0.9500],\n",
       "        [-0.9500]], device='cuda:0', grad_fn=<AddBackward0>)"
      ]
     },
     "execution_count": 77,
     "metadata": {},
     "output_type": "execute_result"
    }
   ],
   "source": [
    "future_rewards"
   ]
  },
  {
   "cell_type": "code",
   "execution_count": null,
   "metadata": {
    "collapsed": true
   },
   "outputs": [],
   "source": []
  },
  {
   "cell_type": "code",
   "execution_count": 10,
   "metadata": {},
   "outputs": [
    {
     "data": {
      "image/png": "[encoded data removed]",
      "text/plain": [
       "<Figure size 432x288 with 1 Axes>"
      ]
     },
     "metadata": {},
     "output_type": "display_data"
    }
   ],
   "source": [
    "# plot the scores\n",
    "fig = plt.figure()\n",
    "ax = fig.add_subplot(111)\n",
    "plt.plot(np.arange(len(score_array)), score_array)\n",
    "plt.ylabel('Score')\n",
    "plt.xlabel('Episode #')\n",
    "plt.show()"
   ]
  },
  {
   "cell_type": "code",
   "execution_count": 97,
   "metadata": {},
   "outputs": [
    {
     "data": {
      "text/plain": [
       "array([0.  , 0.  , 0.  , 0.  , 0.  , 0.  , 0.  , 0.  , 0.  , 0.11, 0.  ,\n",
       "       0.  , 0.05, 0.  , 0.  , 0.  , 0.  , 0.  , 0.  , 0.  ])"
      ]
     },
     "execution_count": 97,
     "metadata": {},
     "output_type": "execute_result"
    }
   ],
   "source": [
    "scores"
   ]
  },
  {
   "cell_type": "code",
   "execution_count": null,
   "metadata": {
    "collapsed": true
   },
   "outputs": [],
   "source": []
  }
 ],
 "metadata": {
  "kernelspec": {
   "display_name": "Python 3",
   "language": "python3.6",
   "name": "python3"
  },
  "language_info": {
   "codemirror_mode": {
    "name": "ipython",
    "version": 3
   },
   "file_extension": ".py",
   "mimetype": "text/x-python",
   "name": "python",
   "nbconvert_exporter": "python",
   "pygments_lexer": "ipython3",
   "version": "3.6.6"
  }
 },
 "nbformat": 4,
 "nbformat_minor": 2
}
