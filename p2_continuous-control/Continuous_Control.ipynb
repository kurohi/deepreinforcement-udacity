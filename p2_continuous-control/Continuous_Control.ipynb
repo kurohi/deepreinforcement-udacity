{
 "cells": [
  {
   "cell_type": "markdown",
   "metadata": {},
   "source": [
    "# Continuous Control\n",
    "\n",
    "---\n",
    "\n",
    "In this notebook, you will learn how to use the Unity ML-Agents environment for the second project of the [Deep Reinforcement Learning Nanodegree](https://www.udacity.com/course/deep-reinforcement-learning-nanodegree--nd893) program.\n",
    "\n",
    "### 1. Start the Environment\n",
    "\n",
    "We begin by importing the necessary packages.  If the code cell below returns an error, please revisit the project instructions to double-check that you have installed [Unity ML-Agents](https://github.com/Unity-Technologies/ml-agents/blob/master/docs/Installation.md) and [NumPy](http://www.numpy.org/)."
   ]
  },
  {
   "cell_type": "code",
   "execution_count": 1,
   "metadata": {
    "collapsed": true
   },
   "outputs": [],
   "source": [
    "from unityagents import UnityEnvironment\n",
    "import numpy as np\n",
    "import torch\n",
    "import torch.nn as nn\n",
    "import torch.nn.functional as F\n",
    "from collections import OrderedDict, deque\n",
    "import matplotlib.pyplot as plt\n",
    "%matplotlib inline"
   ]
  },
  {
   "cell_type": "code",
   "execution_count": 2,
   "metadata": {
    "collapsed": true
   },
   "outputs": [],
   "source": [
    "device = torch.device(\"cuda:0\" if torch.cuda.is_available() else \"cpu\")"
   ]
  },
  {
   "cell_type": "markdown",
   "metadata": {},
   "source": [
    "Next, we will start the environment!  **_Before running the code cell below_**, change the `file_name` parameter to match the location of the Unity environment that you downloaded.\n",
    "\n",
    "- **Mac**: `\"path/to/Reacher.app\"`\n",
    "- **Windows** (x86): `\"path/to/Reacher_Windows_x86/Reacher.exe\"`\n",
    "- **Windows** (x86_64): `\"path/to/Reacher_Windows_x86_64/Reacher.exe\"`\n",
    "- **Linux** (x86): `\"path/to/Reacher_Linux/Reacher.x86\"`\n",
    "- **Linux** (x86_64): `\"path/to/Reacher_Linux/Reacher.x86_64\"`\n",
    "- **Linux** (x86, headless): `\"path/to/Reacher_Linux_NoVis/Reacher.x86\"`\n",
    "- **Linux** (x86_64, headless): `\"path/to/Reacher_Linux_NoVis/Reacher.x86_64\"`\n",
    "\n",
    "For instance, if you are using a Mac, then you downloaded `Reacher.app`.  If this file is in the same folder as the notebook, then the line below should appear as follows:\n",
    "```\n",
    "env = UnityEnvironment(file_name=\"Reacher.app\")\n",
    "```"
   ]
  },
  {
   "cell_type": "code",
   "execution_count": 3,
   "metadata": {},
   "outputs": [
    {
     "name": "stderr",
     "output_type": "stream",
     "text": [
      "INFO:unityagents:\n",
      "'Academy' started successfully!\n",
      "Unity Academy name: Academy\n",
      "        Number of Brains: 1\n",
      "        Number of External Brains : 1\n",
      "        Lesson number : 0\n",
      "        Reset Parameters :\n",
      "\t\tgoal_speed -> 1.0\n",
      "\t\tgoal_size -> 5.0\n",
      "Unity brain name: ReacherBrain\n",
      "        Number of Visual Observations (per agent): 0\n",
      "        Vector Observation space type: continuous\n",
      "        Vector Observation space size (per agent): 33\n",
      "        Number of stacked Vector Observation: 1\n",
      "        Vector Action space type: continuous\n",
      "        Vector Action space size (per agent): 4\n",
      "        Vector Action descriptions: , , , \n"
     ]
    }
   ],
   "source": [
    "env = UnityEnvironment(file_name='Reacher_Linux/Reacher.x86_64')"
   ]
  },
  {
   "cell_type": "markdown",
   "metadata": {},
   "source": [
    "Environments contain **_brains_** which are responsible for deciding the actions of their associated agents. Here we check for the first brain available, and set it as the default brain we will be controlling from Python."
   ]
  },
  {
   "cell_type": "code",
   "execution_count": 4,
   "metadata": {
    "collapsed": true
   },
   "outputs": [],
   "source": [
    "# get the default brain\n",
    "brain_name = env.brain_names[0]\n",
    "brain = env.brains[brain_name]"
   ]
  },
  {
   "cell_type": "markdown",
   "metadata": {},
   "source": [
    "### 2. Examine the State and Action Spaces\n",
    "\n",
    "In this environment, a double-jointed arm can move to target locations. A reward of `+0.1` is provided for each step that the agent's hand is in the goal location. Thus, the goal of your agent is to maintain its position at the target location for as many time steps as possible.\n",
    "\n",
    "The observation space consists of `33` variables corresponding to position, rotation, velocity, and angular velocities of the arm.  Each action is a vector with four numbers, corresponding to torque applicable to two joints.  Every entry in the action vector must be a number between `-1` and `1`.\n",
    "\n",
    "Run the code cell below to print some information about the environment."
   ]
  },
  {
   "cell_type": "code",
   "execution_count": 5,
   "metadata": {},
   "outputs": [
    {
     "name": "stdout",
     "output_type": "stream",
     "text": [
      "Number of agents: 20\n",
      "Size of each action: 4\n",
      "There are 20 agents. Each observes a state with length: 33\n",
      "The state for the first agent looks like: [ 0.00000000e+00 -4.00000000e+00  0.00000000e+00  1.00000000e+00\n",
      " -0.00000000e+00 -0.00000000e+00 -4.37113883e-08  0.00000000e+00\n",
      "  0.00000000e+00  0.00000000e+00  0.00000000e+00  0.00000000e+00\n",
      "  0.00000000e+00  0.00000000e+00 -1.00000000e+01  0.00000000e+00\n",
      "  1.00000000e+00 -0.00000000e+00 -0.00000000e+00 -4.37113883e-08\n",
      "  0.00000000e+00  0.00000000e+00  0.00000000e+00  0.00000000e+00\n",
      "  0.00000000e+00  0.00000000e+00  5.75471878e+00 -1.00000000e+00\n",
      "  5.55726624e+00  0.00000000e+00  1.00000000e+00  0.00000000e+00\n",
      " -1.68164849e-01]\n"
     ]
    }
   ],
   "source": [
    "# reset the environment\n",
    "env_info = env.reset(train_mode=True)[brain_name]\n",
    "\n",
    "# number of agents\n",
    "num_agents = len(env_info.agents)\n",
    "print('Number of agents:', num_agents)\n",
    "\n",
    "# size of each action\n",
    "action_size = brain.vector_action_space_size\n",
    "print('Size of each action:', action_size)\n",
    "\n",
    "# examine the state space \n",
    "states = env_info.vector_observations\n",
    "state_size = states.shape[1]\n",
    "print('There are {} agents. Each observes a state with length: {}'.format(states.shape[0], state_size))\n",
    "print('The state for the first agent looks like:', states[0])"
   ]
  },
  {
   "cell_type": "markdown",
   "metadata": {},
   "source": [
    "### 3. Take Random Actions in the Environment\n",
    "\n",
    "In the next code cell, you will learn how to use the Python API to control the agent and receive feedback from the environment.\n",
    "\n",
    "Once this cell is executed, you will watch the agent's performance, if it selects an action at random with each time step.  A window should pop up that allows you to observe the agent, as it moves through the environment.  \n",
    "\n",
    "Of course, as part of the project, you'll have to change the code so that the agent is able to use its experience to gradually choose better actions when interacting with the environment!"
   ]
  },
  {
   "cell_type": "code",
   "execution_count": null,
   "metadata": {},
   "outputs": [],
   "source": [
    "env_info = env.reset(train_mode=False)[brain_name]     # reset the environment    \n",
    "states = env_info.vector_observations                  # get the current state (for each agent)\n",
    "scores = np.zeros(num_agents)                          # initialize the score (for each agent)\n",
    "while True:\n",
    "    actions = np.random.randn(num_agents, action_size) # select an action (for each agent)\n",
    "    actions = np.clip(actions, -1, 1)                  # all actions between -1 and 1\n",
    "    env_info = env.step(actions)[brain_name]           # send all actions to tne environment\n",
    "    next_states = env_info.vector_observations         # get next state (for each agent)\n",
    "    rewards = env_info.rewards                         # get reward (for each agent)\n",
    "    dones = env_info.local_done                        # see if episode finished\n",
    "    scores += env_info.rewards                         # update the score (for each agent)\n",
    "    states = next_states                               # roll over states to next time step\n",
    "    if np.any(dones):                                  # exit loop if episode finished\n",
    "        break\n",
    "print('Total score (averaged over agents) this episode: {}'.format(np.mean(scores)))"
   ]
  },
  {
   "cell_type": "markdown",
   "metadata": {},
   "source": [
    "When finished, you can close the environment."
   ]
  },
  {
   "cell_type": "code",
   "execution_count": 38,
   "metadata": {
    "collapsed": true
   },
   "outputs": [],
   "source": [
    "env.close()"
   ]
  },
  {
   "cell_type": "markdown",
   "metadata": {},
   "source": [
    "### 4. It's Your Turn!\n",
    "\n",
    "Now it's your turn to train your own agent to solve the environment!  When training the environment, set `train_mode=True`, so that the line for resetting the environment looks like the following:\n",
    "```python\n",
    "env_info = env.reset(train_mode=True)[brain_name]\n",
    "```"
   ]
  },
  {
   "cell_type": "code",
   "execution_count": 97,
   "metadata": {},
   "outputs": [],
   "source": [
    "LR = 5e-4\n",
    "def init_weights(m):\n",
    "    if type(m) == nn.Linear:\n",
    "        torch.nn.init.xavier_uniform_(m.weight)\n",
    "        m.bias.data.fill_(0.01)\n",
    "        \n",
    "class ActorCritic(nn.Module):\n",
    "    def __init__(self, state_size, action_size, fc_sizes=[128,64,32]):\n",
    "        super(ActorCritic, self).__init__()\n",
    "#        sequence_dict = OrderedDict();\n",
    "#        sequence_dict['fc0'] = nn.Linear(state_size, fc_sizes[0])\n",
    "#        sequence_dict['fc_relu0'] = nn.ReLU()\n",
    "#        for i,fc_size in enumerate(fc_sizes):\n",
    "#            if(i == len(fc_sizes)-1):\n",
    "#                break\n",
    "#            sequence_dict['fc{}'.format(i+1)] = nn.Linear(fc_size, fc_sizes[i+1])\n",
    "#            sequence_dict['fc_relu{}'.format(i+1)] = nn.ReLU()\n",
    "\n",
    "#        self.fc_actor = nn.Linear(fc_sizes[-1], action_size)\n",
    "#        self.fc_critic = nn.Linear(fc_sizes[-1], 1)\n",
    "        sequence_dict_actor = OrderedDict()\n",
    "        sequence_dict_critic = OrderedDict()\n",
    "        sequence_dict_actor['fc0'] = nn.Linear(state_size, 256)\n",
    "        sequence_dict_actor['relu0'] = nn.ReLU()\n",
    "        sequence_dict_actor['fc1'] = nn.Linear(256, 128)\n",
    "        sequence_dict_actor['relu1'] = nn.ReLU()\n",
    "        sequence_dict_actor['fc2'] = nn.Linear(128, 64)\n",
    "        sequence_dict_actor['relu2'] = nn.ReLU()\n",
    "        sequence_dict_actor['logit'] = nn.Linear(64, action_size)\n",
    "        self.fc_actor = nn.Sequential(sequence_dict_actor)\n",
    "        \n",
    "        sequence_dict_critic['fc0'] = nn.Linear(state_size+action_size, 256)\n",
    "        sequence_dict_critic['relu0'] = nn.ReLU()\n",
    "        sequence_dict_critic['fc1'] = nn.Linear(256, 128)\n",
    "        sequence_dict_critic['relu1'] = nn.ReLU()\n",
    "        sequence_dict_critic['fc2'] = nn.Linear(128, 64)\n",
    "        sequence_dict_critic['relu2'] = nn.ReLU()\n",
    "        sequence_dict_critic['logit'] = nn.Linear(64, 1)\n",
    "        self.fc_critic = nn.Sequential(sequence_dict_critic)\n",
    "        #self.common_fc = nn.Sequential(sequence_dict)\n",
    "        self.sigmoid = nn.Sigmoid()\n",
    "        \n",
    "        #self.common_fc.apply(init_weights)\n",
    "        self.fc_actor.apply(init_weights)\n",
    "        self.fc_critic.apply(init_weights)\n",
    "\n",
    "    def forward(self, state):\n",
    "        #common_res = self.common_fc.forward(state)\n",
    "        actor_res = self.fc_actor(state)\n",
    "        actor_res = self.sigmoid(actor_res)\n",
    "        critic_res = self.fc_critic(torch.cat((state, (actor_res-0.5)*2.0),dim=1))\n",
    "        return  torch.log(actor_res), (actor_res-0.5)*2.0, critic_res\n",
    "        \n",
    "\n",
    "    "
   ]
  },
  {
   "cell_type": "code",
   "execution_count": 98,
   "metadata": {},
   "outputs": [],
   "source": [
    "def learn(net_local, optimizer, experience, gamma, gae_tau):\n",
    "    states, rewards, values, next_values, dones = experience\n",
    "    #advantage = 0.0\n",
    "    #for i in range(len(states)-1):\n",
    "    #    log_action, action, value = net_local(states[i])\n",
    "    #    next_value = values\n",
    "    future_rewards = rewards + gamma*next_values*dones\n",
    "    #    td_error = rewards + gamma * dones * next_values.detach() - values.detach()\n",
    "    #    advantage = advantage * gae_tau * gamma * dones[i] + td_error\n",
    "    advantage = future_rewards - values.detach()\n",
    "    entropy = (log_actions * actions).mean()\n",
    "\n",
    "    loss_actor = (-log_actions * advantage).mean()\n",
    "    loss_critic = F.mse_loss(future_rewards, values.detach())\n",
    "\n",
    "    loss = loss_actor + loss_critic*0.5 - 0.0001*entropy\n",
    "    #print(loss)\n",
    "\n",
    "    optimizer.zero_grad()\n",
    "    loss.mean().backward(retain_graph=True)\n",
    "    nn.utils.clip_grad_norm_(net_local.parameters(), 0.8)\n",
    "    optimizer.step()"
   ]
  },
  {
   "cell_type": "markdown",
   "metadata": {},
   "source": [
    "## 5.Training loop \n",
    "\n",
    "Here we train the policy."
   ]
  },
  {
   "cell_type": "code",
   "execution_count": 99,
   "metadata": {},
   "outputs": [],
   "source": [
    "ac_target = ActorCritic(state_size,action_size, fc_sizes=[512,256,128]).to(device)\n",
    "ac_local = ActorCritic(state_size,action_size, fc_sizes=[512,256,128]).to(device)\n",
    "optimizer = torch.optim.Adam(ac_local.parameters(), lr=LR)"
   ]
  },
  {
   "cell_type": "code",
   "execution_count": 102,
   "metadata": {},
   "outputs": [
    {
     "name": "stdout",
     "output_type": "stream",
     "text": [
      "Now on epoch: 0 with score: 0.77\n",
      "Now on epoch: 1 with score: 0.96\n",
      "Now on epoch: 2 with score: 0.80\n",
      "Now on epoch: 3 with score: 0.68\n",
      "Now on epoch: 4 with score: 1.00\n",
      "Now on epoch: 5 with score: 0.88\n",
      "Now on epoch: 6 with score: 0.99\n",
      "Now on epoch: 7 with score: 0.74\n",
      "Now on epoch: 8 with score: 0.72\n",
      "Now on epoch: 9 with score: 0.84\n"
     ]
    }
   ],
   "source": [
    "n_episodes = 10\n",
    "max_steps = 5000\n",
    "gamma = 0.99\n",
    "gae_tau = 0.3\n",
    "tau = 0.001\n",
    "score_array = []\n",
    "zero_counter = 0\n",
    "exp_replay_buffer_size = 20\n",
    "sample_train = 20\n",
    "update_every = 1\n",
    "for e in range(n_episodes):\n",
    "    env_info = env.reset(train_mode=True)[brain_name]\n",
    "    states = env_info.vector_observations\n",
    "    scores = np.zeros(num_agents)\n",
    "    exp_replay_buffer = deque(maxlen = exp_replay_buffer_size)\n",
    "    #acquiring an episode\n",
    "    for t in range(1,max_steps):\n",
    "        states = torch.from_numpy(states).float().to(device)        \n",
    "        rewards = env_info.rewards\n",
    "        rewards = np.array(rewards)\n",
    "        rewards = rewards.reshape(rewards.shape[0],1)\n",
    "        rewards = torch.from_numpy(rewards).float().to(device)\n",
    "        dones = env_info.local_done\n",
    "        dones = np.array(dones, dtype=np.float)\n",
    "        dones = dones.reshape(dones.shape[0],1)\n",
    "        dones = torch.from_numpy(dones).float().to(device)\n",
    "        \n",
    "        #using actor to get action to take the next action\n",
    "        log_actions, actions, values_s = ac_target(states)\n",
    "        \n",
    "        env_info = env.step(actions.cpu().data.numpy())[brain_name]\n",
    "        next_states = env_info.vector_observations\n",
    "        next_states_torch = torch.from_numpy(next_states).float().to(device) \n",
    "        _, _, next_values = ac_target(next_states_torch)\n",
    "        \n",
    "        for i in range(len(states)):\n",
    "            exp_replay_buffer.append((states[i], rewards[i], values_s[i], next_values[i], dones[i]))\n",
    "        scores += env_info.rewards\n",
    "        states = next_states\n",
    "            \n",
    "        if(t%update_every == 0 or np.all(dones)):\n",
    "            #sample from the experience relay, then train\n",
    "            for exp in range(sample_train):\n",
    "                index = np.random.randint(0,len(exp_replay_buffer))\n",
    "                experience = exp_replay_buffer[index]\n",
    "                learn(ac_local, optimizer, experience, gamma, gae_tau)\n",
    "        \n",
    "                #soft update\n",
    "                for target_param, local_param in zip(ac_target.parameters(), ac_local.parameters()):\n",
    "                    target_param.data.copy_(tau*local_param.data + (1.0-tau)*target_param.data)\n",
    "        \n",
    "        if(np.all(dones)):\n",
    "            break\n",
    "\n",
    "    \n",
    "    score_mean = np.mean(scores)\n",
    "    score_array.append(score_mean)\n",
    "    print(\"Now on epoch: {} with score: {:.2f}\".format(e, score_mean))\n",
    "    if(e%10 == 0):\n",
    "        torch.save(ac_target.state_dict(), 'actor_critic.pth')"
   ]
  },
  {
   "cell_type": "code",
   "execution_count": null,
   "metadata": {},
   "outputs": [],
   "source": []
  },
  {
   "cell_type": "code",
   "execution_count": null,
   "metadata": {
    "collapsed": true
   },
   "outputs": [],
   "source": []
  },
  {
   "cell_type": "code",
   "execution_count": 45,
   "metadata": {},
   "outputs": [
    {
     "data": {
      "image/png": "[encoded data removed]",
      "text/plain": [
       "<Figure size 432x288 with 1 Axes>"
      ]
     },
     "metadata": {},
     "output_type": "display_data"
    }
   ],
   "source": [
    "# plot the scores\n",
    "fig = plt.figure()\n",
    "ax = fig.add_subplot(111)\n",
    "plt.plot(np.arange(len(score_array)), score_array)\n",
    "plt.ylabel('Score')\n",
    "plt.xlabel('Episode #')\n",
    "plt.show()"
   ]
  },
  {
   "cell_type": "code",
   "execution_count": 97,
   "metadata": {},
   "outputs": [
    {
     "data": {
      "text/plain": [
       "array([0.  , 0.  , 0.  , 0.  , 0.  , 0.  , 0.  , 0.  , 0.  , 0.11, 0.  ,\n",
       "       0.  , 0.05, 0.  , 0.  , 0.  , 0.  , 0.  , 0.  , 0.  ])"
      ]
     },
     "execution_count": 97,
     "metadata": {},
     "output_type": "execute_result"
    }
   ],
   "source": [
    "scores"
   ]
  },
  {
   "cell_type": "code",
   "execution_count": null,
   "metadata": {
    "collapsed": true
   },
   "outputs": [],
   "source": []
  }
 ],
 "metadata": {
  "kernelspec": {
   "display_name": "Python 3",
   "language": "python3.6",
   "name": "python3"
  },
  "language_info": {
   "codemirror_mode": {
    "name": "ipython",
    "version": 3
   },
   "file_extension": ".py",
   "mimetype": "text/x-python",
   "name": "python",
   "nbconvert_exporter": "python",
   "pygments_lexer": "ipython3",
   "version": "3.6.6"
  }
 },
 "nbformat": 4,
 "nbformat_minor": 2
}
